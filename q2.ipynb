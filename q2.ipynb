{
 "cells": [
  {
   "cell_type": "markdown",
   "metadata": {},
   "source": [
    "# Q2) Predicting Food Delivery Time\n",
    "In this question we are aksed to implement linear regression and gradient descent by working on a real-world dataset on food delivery time."
   ]
  },
  {
   "cell_type": "code",
   "execution_count": 6,
   "metadata": {},
   "outputs": [
    {
     "name": "stdout",
     "output_type": "stream",
     "text": [
      "Order_ID                   0\n",
      "Distance_km                0\n",
      "Weather                   30\n",
      "Traffic_Level             30\n",
      "Time_of_Day               30\n",
      "Vehicle_Type               0\n",
      "Preparation_Time_min       0\n",
      "Courier_Experience_yrs    30\n",
      "Delivery_Time_min          0\n",
      "dtype: int64\n"
     ]
    }
   ],
   "source": [
    "# Imorting the necessary libraries\n",
    "import pandas as pd\n",
    "import numpy as np\n",
    "from sklearn.preprocessing import LabelEncoder\n",
    "\n",
    "df = pd.read_csv('Food_Delivery_Times.csv')\n",
    "print(df.isnull().sum())"
   ]
  },
  {
   "cell_type": "markdown",
   "metadata": {},
   "source": [
    "Now we can see that the fields 'Weather', 'Traffic_Level', 'Time_of_Day' and 'Courier_Experience_yrs' are have null entires. Let us handle the missining values for each of these as follows:\n",
    "1) If the field is a categorical field, we fill the misssing entries with the mode (most occuring) of the field\n",
    "2) If the field is a numeric field, we fill the missing entries with the mean of the field"
   ]
  },
  {
   "cell_type": "code",
   "execution_count": 7,
   "metadata": {},
   "outputs": [
    {
     "name": "stdout",
     "output_type": "stream",
     "text": [
      "Order_ID                  0\n",
      "Distance_km               0\n",
      "Weather                   0\n",
      "Traffic_Level             0\n",
      "Time_of_Day               0\n",
      "Vehicle_Type              0\n",
      "Preparation_Time_min      0\n",
      "Courier_Experience_yrs    0\n",
      "Delivery_Time_min         0\n",
      "dtype: int64\n"
     ]
    },
    {
     "name": "stderr",
     "output_type": "stream",
     "text": [
      "/tmp/ipykernel_29686/3320626411.py:4: FutureWarning: A value is trying to be set on a copy of a DataFrame or Series through chained assignment using an inplace method.\n",
      "The behavior will change in pandas 3.0. This inplace method will never work because the intermediate object on which we are setting values always behaves as a copy.\n",
      "\n",
      "For example, when doing 'df[col].method(value, inplace=True)', try using 'df.method({col: value}, inplace=True)' or df[col] = df[col].method(value) instead, to perform the operation inplace on the original object.\n",
      "\n",
      "\n",
      "  df[column].fillna(df[column].mode()[0], inplace=True)\n",
      "/tmp/ipykernel_29686/3320626411.py:8: FutureWarning: A value is trying to be set on a copy of a DataFrame or Series through chained assignment using an inplace method.\n",
      "The behavior will change in pandas 3.0. This inplace method will never work because the intermediate object on which we are setting values always behaves as a copy.\n",
      "\n",
      "For example, when doing 'df[col].method(value, inplace=True)', try using 'df.method({col: value}, inplace=True)' or df[col] = df[col].method(value) instead, to perform the operation inplace on the original object.\n",
      "\n",
      "\n",
      "  df['Courier_Experience_yrs'].fillna(df['Courier_Experience_yrs'].mean(), inplace=True)\n"
     ]
    }
   ],
   "source": [
    "categorical_fields = ['Weather', 'Traffic_Level', 'Time_of_Day']\n",
    "for column in categorical_fields:\n",
    "    try:\n",
    "        df[column].fillna(df[column].mode()[0], inplace=True)\n",
    "    except Exception as e:\n",
    "        print('There seems to be an error:',e)\n",
    "\n",
    "df['Courier_Experience_yrs'].fillna(df['Courier_Experience_yrs'].mean(), inplace=True)\n",
    "\n",
    "# Verifying if there are any missing values\n",
    "print(df.isnull().sum())"
   ]
  },
  {
   "cell_type": "markdown",
   "metadata": {},
   "source": [
    "Now we are asked to encode the necessary fields. Encoding refers to the process of converting categorical (non-numeric) values into numeric values so that their usage becomes easier in methods like linear regression. For the categorical columns 'Weather' and 'Time_of_Day' we go with the One-Hot Encoding and for 'Traffic_Level' we go with Ordinal Encoding"
   ]
  },
  {
   "cell_type": "code",
   "execution_count": 11,
   "metadata": {},
   "outputs": [
    {
     "name": "stdout",
     "output_type": "stream",
     "text": [
      "   Order_ID  Distance_km  Traffic_Level Vehicle_Type  Preparation_Time_min  \\\n",
      "0       522         7.93            1.0      Scooter                    12   \n",
      "1       738        16.42            2.0         Bike                    20   \n",
      "2       741         9.52            1.0      Scooter                    28   \n",
      "3       661         7.44            2.0      Scooter                     5   \n",
      "4       412        19.03            1.0         Bike                    16   \n",
      "\n",
      "   Courier_Experience_yrs  Delivery_Time_min  Weather_Clear  Weather_Foggy  \\\n",
      "0                     1.0                 43          False          False   \n",
      "1                     2.0                 84           True          False   \n",
      "2                     1.0                 59          False           True   \n",
      "3                     1.0                 37          False          False   \n",
      "4                     5.0                 68           True          False   \n",
      "\n",
      "   Weather_Rainy  Weather_Snowy  Weather_Windy  Time_of_Day_Afternoon  \\\n",
      "0          False          False           True                   True   \n",
      "1          False          False          False                  False   \n",
      "2          False          False          False                  False   \n",
      "3           True          False          False                   True   \n",
      "4          False          False          False                  False   \n",
      "\n",
      "   Time_of_Day_Evening  Time_of_Day_Morning  Time_of_Day_Night  \n",
      "0                False                False              False  \n",
      "1                 True                False              False  \n",
      "2                False                False               True  \n",
      "3                False                False              False  \n",
      "4                False                 True              False  \n"
     ]
    }
   ],
   "source": [
    "# One-Hot encoding for the categorical fields 'Weather' and 'Time_of_Day'\n",
    "weather_ohe = pd.get_dummies(file['Weather'], prefix='Weather')\n",
    "df = pd.concat([file, weather_ohe], axis=1)\n",
    "df.drop(columns=['Weather'], inplace=True)\n",
    "\n",
    "time_of_day_ohe = pd.get_dummies(df['Time_of_Day'], prefix='Time_of_Day')\n",
    "df = pd.concat([df, time_of_day_ohe], axis=1)\n",
    "df.drop(columns=['Time_of_Day'], inplace=True)\n",
    "\n",
    "# Ordinal encoding for Traffic_Level\n",
    "traffic_level_mapping = {'Low': 1, 'Medium': 2, 'High': 3}\n",
    "df['Traffic_Level'] = df['Traffic_Level'].map(traffic_level_mapping)\n",
    "\n",
    "print(df.head())"
   ]
  },
  {
   "cell_type": "code",
   "execution_count": null,
   "metadata": {},
   "outputs": [],
   "source": []
  }
 ],
 "metadata": {
  "kernelspec": {
   "display_name": "Python 3",
   "language": "python",
   "name": "python3"
  },
  "language_info": {
   "codemirror_mode": {
    "name": "ipython",
    "version": 3
   },
   "file_extension": ".py",
   "mimetype": "text/x-python",
   "name": "python",
   "nbconvert_exporter": "python",
   "pygments_lexer": "ipython3",
   "version": "3.12.7"
  }
 },
 "nbformat": 4,
 "nbformat_minor": 2
}
