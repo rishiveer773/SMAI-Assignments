{
 "cells": [
  {
   "cell_type": "code",
   "execution_count": 7,
   "metadata": {},
   "outputs": [
    {
     "name": "stdout",
     "output_type": "stream",
     "text": [
      "c:\\Users\\RISHIVEER YADAV\\AppData\\Local\\Programs\\Python\\Python39\\python.exe\n"
     ]
    }
   ],
   "source": [
    "import sys\n",
    "print(sys.executable)"
   ]
  },
  {
   "cell_type": "markdown",
   "metadata": {},
   "source": [
    "# 3Q) KNN and ANN\n",
    "In this question we are asked to implement KNN and ANN from scratch given input embeddings\n",
    "\n",
    "## 3.1) KNN\n",
    "We are asked to implement KNN from scratch, the inputs are a set of embeddings. Given a query, k and a distance metric, it should return the indices of the k nearest neighbours from the database."
   ]
  },
  {
   "cell_type": "code",
   "execution_count": 19,
   "metadata": {},
   "outputs": [],
   "source": [
    "import numpy as np\n",
    "import torch\n",
    "from sklearn.metrics import accuracy_score\n",
    "import matplotlib.pyplot as plt\n",
    "\n",
    "def euclidean_distance(a, b):\n",
    "    a_sq = np.sum(a**2, axis=1, keepdims=True)\n",
    "    b_sq = np.sum(b**2, axis=1)\n",
    "    ab = np.dot(a, b.T)\n",
    "    return np.sqrt(a_sq - 2 * ab + b_sq)\n",
    "\n",
    "def cosine_distance(a, b):\n",
    "    a_norm = a / np.linalg.norm(a, axis=1, keepdims=True)\n",
    "    b_norm = b / np.linalg.norm(b, axis=1, keepdims=True)\n",
    "    return 1 - np.dot(a_norm, b_norm.T)"
   ]
  },
  {
   "cell_type": "code",
   "execution_count": 20,
   "metadata": {},
   "outputs": [],
   "source": [
    "def knn(database, query, k, distance_metric):\n",
    "    indices = []\n",
    "    if distance_metric == 'euclidean':\n",
    "        distance = euclidean_distance(query, database)\n",
    "    elif distance_metric == 'cosine':\n",
    "        distance = cosine_distance(query, database)\n",
    "    else:\n",
    "        raise ValueError(\"Distance Metric not supported. Use only Euclidean or Cosine distances\")\n",
    "    indices.append(np.argsort(distance, axis=1)[:, :k])\n",
    "    return np.vstack(indices)"
   ]
  },
  {
   "cell_type": "code",
   "execution_count": 12,
   "metadata": {},
   "outputs": [],
   "source": [
    "def classify(database, labels, query, k, distance_metric):\n",
    "    neighbour_indices = knn(database, query, k, distance_metric)\n",
    "    neighbour_labels = labels[neighbour_indices]\n",
    "    predictions = np.array([np.bincount(neighbour).argmax() for neighbour in neighbour_labels])\n",
    "    return predictions\n",
    "\n",
    "def mean_reciprocal_rank(ranked_indices, query_labels, database_labels):\n",
    "    mrr_values = []\n",
    "    for i, (ranks, true_label) in enumerate(zip(ranked_indices, query_labels)):\n",
    "        # Find the first occurrence of the correct class\n",
    "        correct_indices = np.where(database_labels[ranks] == true_label)[0]\n",
    "        if len(correct_indices) > 0:\n",
    "            mrr_values.append(1.0 / (correct_indices[0] + 1))\n",
    "        else:\n",
    "            mrr_values.append(0.0)\n",
    "    return np.mean(mrr_values)\n",
    "\n",
    "def precision_at_k(ranked_indices, query_labels, database_labels, k=100):\n",
    "    precisions = []\n",
    "    for ranks, true_label in zip(ranked_indices, query_labels):\n",
    "        retrieved_labels = database_labels[ranks[:k]]\n",
    "        precisions.append(np.sum(retrieved_labels == true_label) / k)\n",
    "    return np.mean(precisions)\n",
    "\n",
    "def hit_rate(ranked_indices, query_labels, database_labels):\n",
    "    hits = []\n",
    "    for ranks, true_label in zip(ranked_indices, query_labels):\n",
    "        retrieved_labels = database_labels[ranks]\n",
    "        hits.append(1 if true_label in retrieved_labels else 0)\n",
    "    return np.mean(hits)"
   ]
  },
  {
   "cell_type": "code",
   "execution_count": 13,
   "metadata": {},
   "outputs": [],
   "source": [
    "try:\n",
    "    train_embeddings = torch.load('./SMAI A1/train_embeddings.pth',map_location=torch.device('cpu')).numpy()\n",
    "    test_embeddings = torch.load('./SMAI A1/test_embeddings.pth',map_location=torch.device('cpu')).numpy()\n",
    "    text_embeddings = torch.load('./SMAI A1/text_embedding.pth',map_location=torch.device('cpu')).numpy()\n",
    "    train_labels = torch.load('./SMAI A1/train_labels.pth',map_location=torch.device('cpu')).numpy()\n",
    "    test_labels = torch.load('./SMAI A1/test_labels.pth',map_location=torch.device('cpu')).numpy()\n",
    "\n",
    "    train_embeddings /= np.linalg.norm(train_embeddings, axis=1, keepdims=True)\n",
    "    test_embeddings /= np.linalg.norm(test_embeddings, axis=1, keepdims=True)\n",
    "    text_embeddings /= np.linalg.norm(text_embeddings, axis=1, keepdims=True)\n",
    "except Exception as e:\n",
    "    print('Error has occured:', e)"
   ]
  },
  {
   "cell_type": "code",
   "execution_count": 15,
   "metadata": {},
   "outputs": [
    {
     "name": "stdout",
     "output_type": "stream",
     "text": [
      "k=1 Euclidean Accuracy: 0.9048\n",
      "k=1 Cosine Accuracy: 0.9048\n",
      "k=5 Euclidean Accuracy: 0.9182\n",
      "k=5 Cosine Accuracy: 0.9182\n",
      "k=10 Euclidean Accuracy: 0.9194\n",
      "k=10 Cosine Accuracy: 0.9194\n",
      "Text-based Classification Accuracy: 0.8781\n",
      "\n",
      "Text-to-Image Retrieval Metrics:\n",
      "MRR: 1.0\n",
      "Precision@100: 0.974\n",
      "Hit Rate: 1.0\n",
      "\n",
      "Image-to-Image Retrieval Metrics:\n",
      "MRR: 0.934796151331504\n",
      "Precision@100: 0.841083\n",
      "Hit Rate: 0.9996\n"
     ]
    }
   ],
   "source": [
    "# Classification using train embeddings\n",
    "for k in [1, 5, 10]:\n",
    "    pred_euc = classify(train_embeddings, train_labels, test_embeddings, k, distance_metric='euclidean')\n",
    "    pred_cos = classify(train_embeddings, train_labels, test_embeddings, k, distance_metric='cosine')\n",
    "    print(f'k={k} Euclidean Accuracy:', accuracy_score(test_labels, pred_euc))\n",
    "    print(f'k={k} Cosine Accuracy:', accuracy_score(test_labels, pred_cos))\n",
    "\n",
    "# Classification using text embeddings\n",
    "pred_text = classify(text_embeddings, np.arange(10), test_embeddings, k=1, distance_metric='cosine')\n",
    "print('Text-based Classification Accuracy:', accuracy_score(test_labels, pred_text))\n",
    "\n",
    "# Text-to-Image Retrieval\n",
    "text_labels = np.arange(10)\n",
    "neighbours_text_to_image = knn(train_embeddings, text_embeddings, k=100, distance_metric='cosine')\n",
    "print('\\nText-to-Image Retrieval Metrics:')\n",
    "print('MRR:', mean_reciprocal_rank(neighbours_text_to_image, text_labels, train_labels))\n",
    "print('Precision@100:', precision_at_k(neighbours_text_to_image, text_labels, train_labels))\n",
    "print('Hit Rate:', hit_rate(neighbours_text_to_image, text_labels, train_labels))\n",
    "\n",
    "# Image-to-Image Retrieval\n",
    "neighbours_image_to_image = knn(train_embeddings, test_embeddings, k=100, distance_metric='cosine')\n",
    "print('\\nImage-to-Image Retrieval Metrics:')\n",
    "print('MRR:', mean_reciprocal_rank(neighbours_image_to_image, test_labels, train_labels))\n",
    "print('Precision@100:', precision_at_k(neighbours_image_to_image, test_labels, train_labels))\n",
    "print('Hit Rate:', hit_rate(neighbours_image_to_image, test_labels, train_labels))"
   ]
  },
  {
   "cell_type": "markdown",
   "metadata": {},
   "source": [
    "## 3.2) Locality Sensitive Hashing\n",
    "We are asked to implement LSH based on the reference article using random hyperplanes. Performing search with LSH consists of three steps:\n",
    "\n",
    "1) Index all of our vectors into their hashed vectors.\n",
    "2) Introduce our query vector (search term). It is hashed using the same LSH function.\n",
    "3) Compare our hashed query vector to all other hash buckets via Hamming distance — identifying the nearest."
   ]
  },
  {
   "cell_type": "code",
   "execution_count": 22,
   "metadata": {},
   "outputs": [],
   "source": [
    "# Function to create and normalize random hyperplanes\n",
    "def create_hyperplanes(nplanes, dimensions):\n",
    "    hyperplanes = np.random.randn(nplanes, dimensions)\n",
    "    return hyperplanes / np.linalg.norm(hyperplanes, axis=1)[:, np.newaxis]\n",
    "\n",
    "# Function to hash vectors into buckets using hyperplane projections. It returns a dictionary mapping hash strings to lists of vector indices\n",
    "def hash_vectors(vectors, hyperplanes):\n",
    "    buckets = {}\n",
    "    projections = np.dot(vectors, hyperplanes)\n",
    "    binary_hashes = (projections > 0).astype(int)\n",
    "\n",
    "    for i, binary_hash in enumerate(binary_hashes):\n",
    "        hash_str = ''.join(binary_hash.astype(int).astype(str))\n",
    "        if hash_str in buckets:\n",
    "            buckets[hash_str].append(i)\n",
    "        else:\n",
    "            buckets[hash_str] = [i]\n",
    "    return buckets\n",
    "\n",
    "# Function to calculate the Hamming distance\n",
    "def hamming_distance(hash1, hash2):\n",
    "    return sum(c1 != c2 for c1, c2 in zip(hash1, hash2))\n",
    "\n",
    "# Function to perform LSH, ie., find k nearest neighbours for a query vector using LSH\n",
    "def query_lsh(query_vector, hyperplanes, buckets, k, max_hamming_distance):\n",
    "    projections = np.dot(query_vector, hyperplanes.T)\n",
    "    hashed_query = ''.join(['1' if projection > 0 else '0' for projection in projections])\n",
    "\n",
    "    # collecting cadidates from nearby search\n",
    "    candidates = []\n",
    "\n",
    "    if hashed_query in buckets:\n",
    "        candidates.extend(buckets[hashed_query])\n",
    "\n",
    "    # checking the neighbouring buckets\n",
    "    for bucket_hash in list(buckets.key()):\n",
    "        if len(bucket_hash) != len(hashed_query):\n",
    "            continue\n",
    "        distance = hamming_distance(hashed_query, bucket_hash)\n",
    "        if 0 < distance <= max_hamming_distance:\n",
    "            candidates.extend(buckets[bucket_hash])\n",
    "\n",
    "    if len(candidates) < k:\n",
    "        return candidates\n",
    "    return np.random.choice(candidates, k, replace=False).tolist()\n",
    "\n",
    "def plot_bucket_distributions(hyperplane_counts, train_embeddings):\n",
    "    \"\"\"Plot bucket size distributions for different numbers of hyperplanes\"\"\"\n",
    "    fig, axes = plt.subplots(len(hyperplane_counts), 1, figsize=(10, 4*len(hyperplane_counts)))\n",
    "    if len(hyperplane_counts) == 1:\n",
    "        axes = [axes]\n",
    "    \n",
    "    for ax, num_planes in zip(axes, hyperplane_counts):\n",
    "        hyperplanes = create_hyperplanes(num_planes, train_embeddings.shape[1])\n",
    "        buckets = hash_vectors(train_embeddings, hyperplanes)\n",
    "        sizes, counts = analyze_bucket_distribution(buckets)\n",
    "        \n",
    "        ax.bar(sizes, counts)\n",
    "        ax.set_title(f'Bucket Size Distribution ({num_planes} hyperplanes)')\n",
    "        ax.set_xlabel('Bucket Size')\n",
    "        ax.set_ylabel('Frequency')\n",
    "        ax.grid(True)\n",
    "    \n",
    "    plt.tight_layout()\n",
    "    plt.show()"
   ]
  },
  {
   "cell_type": "code",
   "execution_count": 24,
   "metadata": {},
   "outputs": [
    {
     "ename": "ValueError",
     "evalue": "shapes (50000,512) and (8,512) not aligned: 512 (dim 1) != 8 (dim 0)",
     "output_type": "error",
     "traceback": [
      "\u001b[1;31m---------------------------------------------------------------------------\u001b[0m",
      "\u001b[1;31mValueError\u001b[0m                                Traceback (most recent call last)",
      "Cell \u001b[1;32mIn[24], line 2\u001b[0m\n\u001b[0;32m      1\u001b[0m hyperplane_counts \u001b[38;5;241m=\u001b[39m [\u001b[38;5;241m8\u001b[39m, \u001b[38;5;241m12\u001b[39m, \u001b[38;5;241m16\u001b[39m]\n\u001b[1;32m----> 2\u001b[0m \u001b[43mplot_bucket_distributions\u001b[49m\u001b[43m(\u001b[49m\u001b[43mhyperplane_counts\u001b[49m\u001b[43m,\u001b[49m\u001b[43m \u001b[49m\u001b[43mtrain_embeddings\u001b[49m\u001b[43m)\u001b[49m\n",
      "Cell \u001b[1;32mIn[22], line 55\u001b[0m, in \u001b[0;36mplot_bucket_distributions\u001b[1;34m(hyperplane_counts, train_embeddings)\u001b[0m\n\u001b[0;32m     53\u001b[0m \u001b[38;5;28;01mfor\u001b[39;00m ax, num_planes \u001b[38;5;129;01min\u001b[39;00m \u001b[38;5;28mzip\u001b[39m(axes, hyperplane_counts):\n\u001b[0;32m     54\u001b[0m     hyperplanes \u001b[38;5;241m=\u001b[39m create_hyperplanes(num_planes, train_embeddings\u001b[38;5;241m.\u001b[39mshape[\u001b[38;5;241m1\u001b[39m])\n\u001b[1;32m---> 55\u001b[0m     buckets \u001b[38;5;241m=\u001b[39m \u001b[43mhash_vectors\u001b[49m\u001b[43m(\u001b[49m\u001b[43mtrain_embeddings\u001b[49m\u001b[43m,\u001b[49m\u001b[43m \u001b[49m\u001b[43mhyperplanes\u001b[49m\u001b[43m)\u001b[49m\n\u001b[0;32m     56\u001b[0m     sizes, counts \u001b[38;5;241m=\u001b[39m analyze_bucket_distribution(buckets)\n\u001b[0;32m     58\u001b[0m     ax\u001b[38;5;241m.\u001b[39mbar(sizes, counts)\n",
      "Cell \u001b[1;32mIn[22], line 9\u001b[0m, in \u001b[0;36mhash_vectors\u001b[1;34m(vectors, hyperplanes)\u001b[0m\n\u001b[0;32m      7\u001b[0m \u001b[38;5;28;01mdef\u001b[39;00m\u001b[38;5;250m \u001b[39m\u001b[38;5;21mhash_vectors\u001b[39m(vectors, hyperplanes):\n\u001b[0;32m      8\u001b[0m     buckets \u001b[38;5;241m=\u001b[39m {}\n\u001b[1;32m----> 9\u001b[0m     projections \u001b[38;5;241m=\u001b[39m \u001b[43mnp\u001b[49m\u001b[38;5;241;43m.\u001b[39;49m\u001b[43mdot\u001b[49m\u001b[43m(\u001b[49m\u001b[43mvectors\u001b[49m\u001b[43m,\u001b[49m\u001b[43m \u001b[49m\u001b[43mhyperplanes\u001b[49m\u001b[43m)\u001b[49m\n\u001b[0;32m     10\u001b[0m     binary_hashes \u001b[38;5;241m=\u001b[39m (projections \u001b[38;5;241m>\u001b[39m \u001b[38;5;241m0\u001b[39m)\u001b[38;5;241m.\u001b[39mastype(\u001b[38;5;28mint\u001b[39m)\n\u001b[0;32m     12\u001b[0m     \u001b[38;5;28;01mfor\u001b[39;00m i, binary_hash \u001b[38;5;129;01min\u001b[39;00m \u001b[38;5;28menumerate\u001b[39m(binary_hashes):\n",
      "\u001b[1;31mValueError\u001b[0m: shapes (50000,512) and (8,512) not aligned: 512 (dim 1) != 8 (dim 0)"
     ]
    },
    {
     "data": {
      "image/png": "[encoded data removed]",
      "text/plain": [
       "<Figure size 1000x1200 with 3 Axes>"
      ]
     },
     "metadata": {},
     "output_type": "display_data"
    }
   ],
   "source": [
    "hyperplane_counts = [8, 12, 16]\n",
    "plot_bucket_distributions(hyperplane_counts, train_embeddings)"
   ]
  },
  {
   "cell_type": "code",
   "execution_count": null,
   "metadata": {},
   "outputs": [],
   "source": []
  }
 ],
 "metadata": {
  "kernelspec": {
   "display_name": "Python 3",
   "language": "python",
   "name": "python3"
  },
  "language_info": {
   "codemirror_mode": {
    "name": "ipython",
    "version": 3
   },
   "file_extension": ".py",
   "mimetype": "text/x-python",
   "name": "python",
   "nbconvert_exporter": "python",
   "pygments_lexer": "ipython3",
   "version": "3.9.1"
  }
 },
 "nbformat": 4,
 "nbformat_minor": 2
}
