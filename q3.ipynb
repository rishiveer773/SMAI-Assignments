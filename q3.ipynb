{
 "cells": [
  {
   "cell_type": "code",
   "execution_count": 6,
   "metadata": {},
   "outputs": [
    {
     "name": "stdout",
     "output_type": "stream",
     "text": [
      "c:\\Users\\RISHIVEER YADAV\\AppData\\Local\\Programs\\Python\\Python39\\python.exe\n"
     ]
    }
   ],
   "source": [
    "import sys\n",
    "print(sys.executable)"
   ]
  },
  {
   "cell_type": "markdown",
   "metadata": {},
   "source": [
    "# 3Q) KNN and ANN\n",
    "In this question we are asked to implement KNN and ANN from scratch given input embeddings\n",
    "\n",
    "## 3.1) KNN\n",
    "We are asked to implement KNN from scratch, the inputs are a set of embeddings. Given a query, k and a distance metric, it should return the indices of the k nearest neighbours from the database."
   ]
  },
  {
   "cell_type": "code",
   "execution_count": 12,
   "metadata": {},
   "outputs": [],
   "source": [
    "import numpy as np\n",
    "import torch\n",
    "\n",
    "def euclidean_distance(a, b):\n",
    "    return np.linalg.norm(a[:, np.newaxis] - b, axis=2)\n",
    "\n",
    "def cosine_distance(a, b):\n",
    "    a_norm = a / np.linalg.norm(a, axis=1, keepdims=True)\n",
    "    b_norm = b / np.linalg.norm(b, axis=1, keepdims=True)\n",
    "    return 1 - np.dot(a_norm, b_norm.T)"
   ]
  },
  {
   "cell_type": "code",
   "execution_count": 3,
   "metadata": {},
   "outputs": [],
   "source": [
    "def knn(database, query, k, distance_metric):\n",
    "    if distance_metric == 'euclidean':\n",
    "        distance = euclidean_distance(query, database)\n",
    "    elif distance_metric == 'cosine':\n",
    "        distance = cosine_distance(query, database)\n",
    "    else:\n",
    "        raise ValueError(\"Distance Metric not supported. Use only Euclidean or Cosine distances\")\n",
    "    return np.argsort(distance, axis=1)[:, :k]"
   ]
  },
  {
   "cell_type": "code",
   "execution_count": null,
   "metadata": {},
   "outputs": [],
   "source": [
    "def classify"
   ]
  }
 ],
 "metadata": {
  "kernelspec": {
   "display_name": "Python 3",
   "language": "python",
   "name": "python3"
  },
  "language_info": {
   "codemirror_mode": {
    "name": "ipython",
    "version": 3
   },
   "file_extension": ".py",
   "mimetype": "text/x-python",
   "name": "python",
   "nbconvert_exporter": "python",
   "pygments_lexer": "ipython3",
   "version": "3.9.1"
  }
 },
 "nbformat": 4,
 "nbformat_minor": 2
}
